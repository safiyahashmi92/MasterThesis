{
  "nbformat": 4,
  "nbformat_minor": 0,
  "metadata": {
    "colab": {
      "name": "Fetching Subject IDs for whom waveform records exist.ipynb",
      "provenance": [],
      "collapsed_sections": []
    },
    "kernelspec": {
      "name": "python3",
      "display_name": "Python 3"
    }
  },
  "cells": [
    {
      "cell_type": "code",
      "metadata": {
        "id": "Nf-3WML-ucs2",
        "colab_type": "code",
        "colab": {}
      },
      "source": [
        "import pandas as pd\n",
        "import urllib.request\n",
        "import psycopg2\n",
        "import pandas as pd\n",
        "\n"
      ],
      "execution_count": 0,
      "outputs": []
    },
    {
      "cell_type": "code",
      "metadata": {
        "id": "YNfs_dcHC6KE",
        "colab_type": "code",
        "colab": {}
      },
      "source": [
        "# To get the list of subject_ids for whom waveform exists in mimic matched waveform database.\n",
        "\n",
        "column = ['subject_id']\n",
        "df1 = pd.DataFrame(columns= column);    \n",
        "i=0;\n",
        "data =  urllib.request.urlopen(\"https://archive.physionet.org/physiobank/database/mimic3wdb/matched/RECORDS\");    \n",
        "for lines in data.readlines():\n",
        "  data = lines.decode(\"utf-8\");\n",
        "  #print (data) ;\n",
        "  #print ( data[5:11]);\n",
        "  df1.loc[i] = data[5:11]\n",
        "  i =i +1;\n",
        "\n",
        "print (df1);"
      ],
      "execution_count": 0,
      "outputs": []
    },
    {
      "cell_type": "code",
      "metadata": {
        "id": "wgDTfPy3zcOd",
        "colab_type": "code",
        "colab": {}
      },
      "source": [
        "# To connect to the mimic DB\n",
        "\n",
        "conn = psycopg2.connect(database=\"mimic\",user=\"postgres\",password=\"postgres\",host=\"localhost\", port=\"5432\")\n",
        "cur = conn.cursor()\n",
        "cur.execute(\"SET search_path TO \" + \"mimiciii\")"
      ],
      "execution_count": 0,
      "outputs": []
    },
    {
      "cell_type": "code",
      "metadata": {
        "id": "dsn37rqR3wjV",
        "colab_type": "code",
        "colab": {}
      },
      "source": [
        "#Query to fetch subject IDs from the selected cohort in DB.\n",
        "query_subjectids_coh = \"\"\"select icu.subject_id, icu.icustay_id   from \n",
        "sepsis3_cohort coh, icustays icu\n",
        "where coh.icustay_id= icu.icustay_id and coh.excluded=0 \"\"\";\n",
        "\n",
        "df2 = pd.read_sql(query_subjectids_coh, conn)\n",
        "print(df2);"
      ],
      "execution_count": 0,
      "outputs": []
    },
    {
      "cell_type": "code",
      "metadata": {
        "id": "MXOu6GBzCMqk",
        "colab_type": "code",
        "colab": {}
      },
      "source": [
        "df1 = df1.astype(int)\n",
        "df2 = df2.astype(int)\n",
        "# Inner join both dataframes on subject_id\n",
        "df3 = pd.merge(df1, df2, on='subject_id', how='inner');\n",
        "print (df3.shape[0])\n",
        "print (df3);"
      ],
      "execution_count": 0,
      "outputs": []
    },
    {
      "cell_type": "code",
      "metadata": {
        "id": "OyDl-Ni9I6di",
        "colab_type": "code",
        "colab": {}
      },
      "source": [
        "# For all the subject_ids for which the waveform exists in mimic matched waveform database, set the value of column 'waveform_exists' to '1'\n",
        "for index, row in df3.iterrows():\n",
        "  Query_update_sepsis3coh = (\"update sepsis3_cohort coh set waveform_exists = 1 where coh.icustay_id =\" + str(row['icustay_id']));\n",
        "  print(Query_update_sepsis3coh);\n",
        "  cur.execute(Query_update_sepsis3coh);"
      ],
      "execution_count": 0,
      "outputs": []
    },
    {
      "cell_type": "code",
      "metadata": {
        "id": "q-P_977HK9KY",
        "colab_type": "code",
        "colab": {}
      },
      "source": [
        "# to commit the updated records\n",
        "conn.commit();"
      ],
      "execution_count": 0,
      "outputs": []
    },
    {
      "cell_type": "code",
      "metadata": {
        "id": "AQ_2Y8OoMBEY",
        "colab_type": "code",
        "colab": {
          "base_uri": "https://localhost:8080/",
          "height": 51
        },
        "outputId": "b380d743-4e4c-4b2f-af80-06b6c6eb3389"
      },
      "source": [
        "# To check how many patients with sepsis (suspected infection +change in SOFA >=2) have waveform records in the mimic matched waveform db\n",
        "\n",
        "conn = psycopg2.connect(database=\"mimic\",user=\"postgres\",password=\"postgres\",host=\"localhost\", port=\"5432\")\n",
        "cur = conn.cursor()\n",
        "cur.execute(\"SET search_path TO \" + \"mimiciii\")\n",
        "\n",
        "query_count_Sepsis_waveform_exists = \"select count(*) from sepsis3_cohort coh where coh.waveform_exists = 1 and coh.has_sepsis=1\";\n",
        "cur.execute(query_count_Sepsis_waveform_exists);\n",
        "result = cur.fetchall();\n",
        "for i in result:\n",
        "  print (i);\n",
        "\n",
        "# To generate a CSV file consisting for all the subject_ids from selected cohort for which the waveform exists in the mimic matched waveform db\n",
        "query_waveform_exists = \"select subject_id,icustay_id,sepsis_onsettime from sepsis3_cohort coh where coh.waveform_exists = 1\";\n",
        "df_waveform_exists = pd.read_sql(query_waveform_exists,conn);\n",
        "print(df_waveform_exists.shape[0]);\n",
        "\n",
        "\n",
        "df_waveform_exists.to_csv ('df_waveform_exists.csv', sep=',', index = False, header=True);\n"
      ],
      "execution_count": 146,
      "outputs": [
        {
          "output_type": "stream",
          "text": [
            "(2325,)\n",
            "4653\n"
          ],
          "name": "stdout"
        }
      ]
    }
  ]
}