{
  "nbformat": 4,
  "nbformat_minor": 0,
  "metadata": {
    "colab": {
      "name": "3_Extracting TS data for patients that have less than 20% missing values for first 24hours .ipynb",
      "provenance": [],
      "collapsed_sections": []
    },
    "kernelspec": {
      "name": "python3",
      "display_name": "Python 3"
    },
    "accelerator": "GPU"
  },
  "cells": [
    {
      "cell_type": "code",
      "metadata": {
        "id": "ljfsReyJSKhL",
        "colab_type": "code",
        "colab": {}
      },
      "source": [
        "!pip install wfdb\n",
        "import io\n",
        "import pandas as pd\n",
        "from IPython.display import display\n",
        "import matplotlib.pyplot as plt\n",
        "%matplotlib inline\n",
        "import numpy as np\n",
        "import os\n",
        "import shutil\n",
        "import posixpath\n",
        "import wfdb\n",
        "import urllib.request\n",
        "import datetime\n",
        "from collections import namedtuple\n"
      ],
      "execution_count": null,
      "outputs": []
    },
    {
      "cell_type": "code",
      "metadata": {
        "id": "jFfuiVheSRA3",
        "colab_type": "code",
        "colab": {
          "resources": {
            "http://localhost:8080/nbextensions/google.colab/files.js": {
              "data": "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",
              "ok": true,
              "headers": [
                [
                  "content-type",
                  "application/javascript"
                ]
              ],
              "status": 200,
              "status_text": ""
            }
          },
          "base_uri": "https://localhost:8080/",
          "height": 109
        },
        "outputId": "6ddb1d0c-c170-41b9-c328-ba987df37e20"
      },
      "source": [
        "from google.colab import files\n",
        "uploaded = files.upload()"
      ],
      "execution_count": null,
      "outputs": [
        {
          "output_type": "display_data",
          "data": {
            "text/html": [
              "\n",
              "     <input type=\"file\" id=\"files-22866552-b374-4858-b2af-c10f74cdb70d\" name=\"files[]\" multiple disabled\n",
              "        style=\"border:none\" />\n",
              "     <output id=\"result-22866552-b374-4858-b2af-c10f74cdb70d\">\n",
              "      Upload widget is only available when the cell has been executed in the\n",
              "      current browser session. Please rerun this cell to enable.\n",
              "      </output>\n",
              "      <script src=\"/nbextensions/google.colab/files.js\"></script> "
            ],
            "text/plain": [
              "<IPython.core.display.HTML object>"
            ]
          },
          "metadata": {
            "tags": []
          }
        },
        {
          "output_type": "stream",
          "text": [
            "Saving df_TS_exists_withoutTEMP_hourlycounts_nw.csv to df_TS_exists_withoutTEMP_hourlycounts_nw (5).csv\n"
          ],
          "name": "stdout"
        }
      ]
    },
    {
      "cell_type": "code",
      "metadata": {
        "id": "JDFyp2JXSRsR",
        "colab_type": "code",
        "colab": {
          "base_uri": "https://localhost:8080/",
          "height": 156
        },
        "outputId": "f76d9837-1b52-4e45-851d-1eedd9146947"
      },
      "source": [
        "df_housrly_csvdata = pd.read_csv(io.BytesIO(uploaded['df_TS_exists_withoutTEMP_hourlycounts_nw.csv']))\n",
        "#df_housrly_csvdata = pd.read_excel('df_TS_exists_withoutTEMP_hourlycounts.xls',)\n",
        "# Dataset is now stored in a Pandas Dataframe\n",
        "print ('shape of original dataframe from XLS : ', df_housrly_csvdata.shape)\n",
        "#print(df_housrly_csvdata)\n",
        "\n",
        "total_onset_bet_intime_outtime = df_housrly_csvdata[(df_housrly_csvdata['sepsis_onsettime'] >= df_housrly_csvdata['intime']  )\n",
        "& (df_housrly_csvdata['sepsis_onsettime'] <=  df_housrly_csvdata['outtime']  ) ].shape[0]\n",
        "print('Total number of ICU stays out of 1655 and whose sepsis onset time is between ICU in time and out time: ', total_onset_bet_intime_outtime)\n",
        "print('Total number of ICU stays out of 1655 and who suffer from sepsis: ', df_housrly_csvdata[df_housrly_csvdata['sepsis_onsettime'].notnull()].shape[0] ) \n",
        "print('Total number of ICU stays out of 1655 and who DO NOT suffer from sepsis: ', df_housrly_csvdata[df_housrly_csvdata['sepsis_onsettime'].isnull()].shape[0] ) \n",
        "\n",
        "\n",
        "df_first24_csvdata = df_housrly_csvdata[df_housrly_csvdata['first24'] == 1]\n",
        "print('Total number of ICU stays that contain less than 20% mnissing values for first 24 hours after in time: ', df_first24_csvdata.shape[0])\n",
        "print('Total number of ICU stays that contain less than 20% mnissing values for first 24 hours after in time and those suffering from sepsis: ', \n",
        "      df_first24_csvdata[df_first24_csvdata['sepsis_onsettime'].notnull()].shape[0])\n",
        "print('Total number of ICU stays that contain less than 20% mnissing values for first 24 hours after in time and those NOT suffering from sepsis: ', \n",
        "      df_first24_csvdata[df_first24_csvdata['sepsis_onsettime'].isnull()].shape[0])\n",
        "\n",
        "                      "
      ],
      "execution_count": null,
      "outputs": [
        {
          "output_type": "stream",
          "text": [
            "shape of original dataframe from XLS :  (1655, 14)\n",
            "Total number of ICU stays out of 1655 and whose sepsis onset time is between ICU in time and out time:  998\n",
            "Total number of ICU stays out of 1655 and who suffer from sepsis:  998\n",
            "Total number of ICU stays out of 1655 and who DO NOT suffer from sepsis:  657\n",
            "Total number of ICU stays that contain less than 20% mnissing values for first 24 hours after in time:  404\n",
            "Total number of ICU stays that contain less than 20% mnissing values for first 24 hours after in time and those suffering from sepsis:  223\n",
            "Total number of ICU stays that contain less than 20% mnissing values for first 24 hours after in time and those NOT suffering from sepsis:  181\n"
          ],
          "name": "stdout"
        }
      ]
    },
    {
      "cell_type": "code",
      "metadata": {
        "id": "i5GltHXhWoSs",
        "colab_type": "code",
        "colab": {}
      },
      "source": [
        "df_ts_records_columns = ['SUBJECT_ID','ICUSTAY_ID','RECORD','TIME','HR', 'SPO2','ABPSYS','ABPDIAS','ABPMEAN','RESP'] \n",
        "df_ts_records_all_patients_columns =  ['SUBJECT_ID','ICUSTAY_ID','RECORD','TIME','HR', 'SPO2','ABPSYS','ABPDIAS','ABPMEAN','RESP'] \n",
        "\n",
        "df_ts_records_all_patients = pd.DataFrame(columns=df_ts_records_all_patients_columns)\n",
        "\n",
        "\n",
        "for index, row in df_first24_csvdata.iterrows():\n",
        "    print(row['subject_id']);\n",
        "    try:\n",
        "      df_ts_records.drop(df_ts_records.index,inplace=True)\n",
        "    except:\n",
        "      print('MAIN DF does not exits')\n",
        "\n",
        "    df_ts_records = pd.DataFrame(columns=df_ts_records_columns);\n",
        "\n",
        "    wdb_dir_path = 'mimic3wdb/matched/p'+ str(row['subject_id']).zfill(6)[:2] + '/p' + str(row['subject_id']).zfill(6) + '/';\n",
        "    wdb_path_toAllRecords = 'https://archive.physionet.org/physiobank/database/'+ wdb_dir_path + 'RECORDS';\n",
        "    wdb_records =  urllib.request.urlopen(wdb_path_toAllRecords);   \n",
        "    count_overlap = 0; \n",
        "    for lines in wdb_records.readlines():\n",
        "      record = lines.decode(\"utf-8\"); \n",
        "      record = str(record).rstrip()\n",
        "      #print (record[-1:])\n",
        "      if record[-1:] == 'n':\n",
        "        #print(record);\n",
        "        #print (wdb_dir_path);\n",
        "        consider_record =0 ;\n",
        "        record = str(record).rstrip()\n",
        "\n",
        "        try:\n",
        "          signals =''\n",
        "          fields = ''\n",
        "          signals,fields = wfdb.rdsamp(record, pn_dir=wdb_dir_path) ; \n",
        "          list_sig_name = [item.upper().replace(' ','') for item in fields['sig_name']]\n",
        "          sig_exist_1 = all(x in list_sig_name for x in ['HR', 'SPO2','ABPSYS','ABPDIAS','ABPMEAN','RESP']);  #%SpO2\n",
        "          sig_exist_2 = all(x in list_sig_name for x in ['HR', '%SPO2','ABPSYS','ABPDIAS','ABPMEAN','RESP']); \n",
        "          if ((sig_exist_1 == True) or (sig_exist_2 == True)) :\n",
        "            consider_record = 1\n",
        "          else:\n",
        "            consider_record = 0\n",
        "          record_starttime = datetime.datetime.combine(fields['base_date'] ,fields['base_time'] ) ;\n",
        "          if  '%.3f'%(fields['fs']) == '1.000' :\n",
        "            record_endtime = record_starttime + datetime.timedelta(seconds= (fields['sig_len']-1)) ;\n",
        "          elif '%.3f'%(fields['fs'])== '0.017' :\n",
        "            record_endtime = record_starttime + datetime.timedelta(minutes = (fields['sig_len']-1)) ;\n",
        "          else : \n",
        "            print('ERROR IN SAMPLING');\n",
        "            print(record);\n",
        "            print (wdb_dir_path);\n",
        "          #Caculate if we have a recording for the time of icu stay\n",
        "          Range = namedtuple('Range', ['start', 'end'])\n",
        "          r1 = Range(start= datetime.datetime.strptime(row['intime'],'%Y-%m-%d %H:%M:%S'), end= datetime.datetime.strptime(row['outtime'],'%Y-%m-%d %H:%M:%S'))\n",
        "          r2 = Range(start= record_starttime, end = record_endtime)\n",
        "          latest_start = max(r1.start, r2.start)\n",
        "          earliest_end = min(r1.end, r2.end)\n",
        "          delta = (earliest_end - latest_start).days + 1\n",
        "          df_row_idx = df_ts_records.shape[0] ;\n",
        "          if ((delta >= 0 ) & (consider_record ==1)) :\n",
        "            ###\n",
        "            try:\n",
        "              df_ts_indv_record_temp.drop(df_ts_indv_record_temp.index, inplace=True)\n",
        "            except:\n",
        "              print('individual record for a single patient df does not exists')\n",
        "              \n",
        "            df_ts_indv_record_temp = pd.DataFrame(columns = df_ts_records_columns ) # individual record for a single patient #safiya\n",
        "            ###\n",
        "            #print('RECORD EXISTS FOR THE ICU STAYS WITH THE SIGNALS NEEDED : ', row['subject_id'])\n",
        "            #df_csvdata.loc[index,'timeoverlap'] = 1;\n",
        "            #todo : adding new dataframe, exatracting required signals, computing avergage for per sminute values in case of per second sampling frequency\n",
        "            for i in fields['sig_name']:\n",
        "              if i.upper().replace(' ','') == 'HR':\n",
        "                idx_HR='';\n",
        "                idx_HR = fields['sig_name'].index(i);\n",
        "              elif (( i.upper().replace(' ','') == 'SPO2') or (i.upper().replace(' ','') =='%SPO2')):\n",
        "                idx_SPO2 = '';\n",
        "                idx_SPO2 = fields['sig_name'].index(i);\n",
        "              elif i.upper().replace(' ','') == 'ABPSYS' :\n",
        "                idx_ABPSYS = '';\n",
        "                idx_ABPSYS = fields['sig_name'].index(i);\n",
        "              elif i.upper().replace(' ','') == 'ABPDIAS' :\n",
        "                idx_ABPDIAS = '';\n",
        "                idx_ABPDIAS = fields['sig_name'].index(i);\n",
        "              elif i.upper().replace(' ','') == 'ABPMEAN' :\n",
        "                idx_ABPMEAN = '';\n",
        "                idx_ABPMEAN = fields['sig_name'].index(i);\n",
        "              elif i.upper().replace(' ','') == 'RESP' :\n",
        "                idx_RESP = '';\n",
        "                idx_RESP = fields['sig_name'].index(i);\n",
        "                \n",
        "            if count_overlap == 0 : \n",
        "              if record_starttime > (datetime.datetime.strptime(row['intime'],'%Y-%m-%d %H:%M:%S') ):\n",
        "                #print('inserting nulls between icu intime and record start time')\n",
        "                minutes_to_insert_start = record_starttime - (datetime.datetime.strptime(row['intime'],'%Y-%m-%d %H:%M:%S') )\n",
        "                #print('minutes_to_insert_start:  ', minutes_to_insert_start)\n",
        "                duration_in_s = minutes_to_insert_start.total_seconds()\n",
        "                minutes_to_insert_start = divmod(duration_in_s, 60)[0] - 1 \n",
        "                try:\n",
        "                  df_ts_records_time_temp_start.drop(df_ts_records_time_temp_start.index,  inplace=True)\n",
        "                except :\n",
        "                  print( 'df_ts_records_time_temp_start does not exist')\n",
        "                df_ts_records_time_temp_start = pd.DataFrame(columns=df_ts_records_columns)\n",
        "                if '%.3f'%(fields['fs'])== '0.017' :\n",
        "                  df_ts_records_time_temp_start['TIME'] = pd.date_range((datetime.datetime.strptime(row['intime'],'%Y-%m-%d %H:%M:%S') ) + datetime.timedelta(minutes=1), \n",
        "                                                              periods = minutes_to_insert_start, freq='1min'); \n",
        "                elif '%.3f'%(fields['fs'])== '1.000' :\n",
        "                  df_ts_records_time_temp_start['TIME'] = pd.date_range((datetime.datetime.strptime(row['intime'],'%Y-%m-%d %H:%M:%S') ) + datetime.timedelta(seconds=1), \n",
        "                                                              periods = (duration_in_s-1), freq='S');  \n",
        "                df_ts_indv_record_temp = df_ts_indv_record_temp.append(df_ts_records_time_temp_start, ignore_index=True);\n",
        "\n",
        "              try:\n",
        "                df_ts_records_temp.drop(df_ts_records_temp.index,  inplace=True)\n",
        "              except:\n",
        "                print( 'df_ts_records_time_temp_start does not exist')\n",
        "              df_ts_records_temp = pd.DataFrame(columns=df_ts_records_columns)\n",
        "              df_ts_records_temp['HR']= signals[:,idx_HR ] \n",
        "              df_ts_records_temp['SPO2']= signals[:,idx_SPO2 ] \n",
        "              df_ts_records_temp['ABPSYS']= signals[:,idx_ABPSYS ] \n",
        "              df_ts_records_temp['ABPDIAS']= signals[:,idx_ABPDIAS ] \n",
        "              df_ts_records_temp['ABPMEAN']= signals[:,idx_ABPMEAN ] \n",
        "              df_ts_records_temp['RESP']= signals[:,idx_RESP ] \n",
        "              if '%.3f'%(fields['fs'])== '0.017' :\n",
        "                df_ts_records_temp['TIME'] = pd.date_range(record_starttime, periods=fields['sig_len'], freq='1min'); \n",
        "              elif '%.3f'%(fields['fs'])== '1.000' :\n",
        "                df_ts_records_temp['TIME'] = pd.date_range(record_starttime, periods=fields['sig_len'], freq='S'); \n",
        "              df_ts_records_temp.TIME = pd.to_datetime(df_ts_records_temp.TIME)\n",
        "              df_ts_indv_record_temp = df_ts_indv_record_temp.append(df_ts_records_temp, ignore_index=True);\n",
        "              df_ts_indv_record_temp['RECORD'] = record;\n",
        "\n",
        "              if '%.3f'%(fields['fs'])== '1.000' : #safiya\n",
        "                #print('shape of persecond data before aggregation: ', df_ts_indv_record_temp.shape)\n",
        "                #print('aggregating first record')\n",
        "                start_idx = 0;\n",
        "                try:\n",
        "                  df_ts_records_new.drop(df_ts_records_new.index, inplace=True)\n",
        "                except:\n",
        "                  print('df_ts_records_new does not exists')\n",
        "                df_ts_records_new = pd.DataFrame(columns=df_ts_records_columns);\n",
        "                #print('length of new df  '  , df_ts_records_new.shape[0] )\n",
        "                for index, rows in df_ts_indv_record_temp.iterrows():\n",
        "                  if start_idx >= df_ts_indv_record_temp.shape[0]:\n",
        "                    exit;\n",
        "                  else: \n",
        "                    #print(df_ts_records.iloc[start_idx: (start_idx+60), 2:8])\n",
        "                    array = np.array( df_ts_indv_record_temp.iloc[start_idx: (start_idx+60), 4:10].mean(axis=0))\n",
        "                    current_index = df_ts_records_new.shape[0]\n",
        "                    df_ts_records_new.loc[current_index ,'HR']= array[0]\n",
        "                    df_ts_records_new.loc[current_index,'SPO2']= array[1]\n",
        "                    df_ts_records_new.loc[current_index,'ABPSYS']= array[2]\n",
        "                    df_ts_records_new.loc[current_index,'ABPDIAS']= array[3]\n",
        "                    df_ts_records_new.loc[current_index,'ABPMEAN']= array[4]\n",
        "                    df_ts_records_new.loc[current_index,'RESP']= array[5]\n",
        "                    start_idx = start_idx+60;\n",
        "\n",
        "                #print('finished aggregating first record and now inserting into main df for a patient')\n",
        "                df_ts_records_new['TIME'] = pd.date_range(df_ts_indv_record_temp.loc[0,'TIME'], periods= df_ts_records_new.shape[0], freq='1min'); \n",
        "                df_ts_records_new.TIME = pd.to_datetime(df_ts_records_new.TIME)\n",
        "                df_ts_records_new['RECORD'] = record\n",
        "                df_ts_records = df_ts_records.append(df_ts_records_new, ignore_index=True); # appending at one subject level\n",
        "                df_ts_indv_record_temp.drop(df_ts_indv_record_temp.index, inplace=True);\n",
        "                df_ts_records_new.drop(df_ts_records_new.index, inplace=True)   \n",
        "                #print('finished aggregating first record')\n",
        "\n",
        "              else:\n",
        "                df_ts_records = df_ts_records.append(df_ts_indv_record_temp, ignore_index=True);\n",
        "                df_ts_indv_record_temp.drop(df_ts_indv_record_temp.index, inplace=True);\n",
        "                \n",
        "\n",
        "            else: # when it is a second/ third/... record for one subject\n",
        "              if record_starttime < (datetime.datetime.strptime(row['outtime'],'%Y-%m-%d %H:%M:%S') ) :\n",
        "                last_Record_time = df_ts_records.loc[(df_row_idx-1),'TIME']\n",
        "                #print('main DF last time record: ',last_Record_time )\n",
        "                minutes_to_insert = record_starttime - last_Record_time\n",
        "                duration_in_s = minutes_to_insert.total_seconds()\n",
        "                minutes_to_insert = divmod(duration_in_s, 60)[0] - 1\n",
        "                #print ('minutes_to_insert:  ', minutes_to_insert);\n",
        "                try:\n",
        "                  df_ts_records_time_temp.drop(df_ts_records_time_temp.index, inplace= True);\n",
        "                  df_ts_records_temp.drop(df_ts_records_temp.index, inplace=True);\n",
        "                except:\n",
        "                  print ('df_ts_records_temp and df_ts_records_time_temp does not exits')\n",
        "                df_ts_records_time_temp = pd.DataFrame(columns=df_ts_records_columns)\n",
        "                if '%.3f'%(fields['fs'])== '0.017' :\n",
        "                  df_ts_records_time_temp['TIME'] = pd.date_range(last_Record_time + datetime.timedelta(minutes=1), \n",
        "                                                              periods=minutes_to_insert, freq='1min'); \n",
        "                elif '%.3f'%(fields['fs'])== '1.000' :\n",
        "                  df_ts_records_time_temp['TIME'] = pd.date_range(last_Record_time + datetime.timedelta(seconds=1), \n",
        "                                                              periods=(duration_in_s-1), freq='S'); \n",
        "                #print ('df_ts_records_time_temp:')\n",
        "                #print (df_ts_records_time_temp)\n",
        "                df_ts_indv_record_temp = df_ts_indv_record_temp.append(df_ts_records_time_temp, ignore_index=True);\n",
        "              \n",
        "                df_ts_records_temp = pd.DataFrame(columns=df_ts_records_columns)\n",
        "                df_ts_records_temp['HR']= signals[:,idx_HR ] \n",
        "                df_ts_records_temp['SPO2']= signals[:,idx_SPO2 ] \n",
        "                df_ts_records_temp['ABPSYS']= signals[:,idx_ABPSYS ] \n",
        "                df_ts_records_temp['ABPDIAS']= signals[:,idx_ABPDIAS ] \n",
        "                df_ts_records_temp['ABPMEAN']= signals[:,idx_ABPMEAN ] \n",
        "                df_ts_records_temp['RESP']= signals[:,idx_RESP ] \n",
        "                if '%.3f'%(fields['fs'])== '0.017' :\n",
        "                  df_ts_records_temp['TIME'] = pd.date_range(record_starttime, periods=fields['sig_len'], freq='1min'); \n",
        "                elif  '%.3f'%(fields['fs'])== '1.000' :\n",
        "                  df_ts_records_temp['TIME'] = pd.date_range(record_starttime, periods=fields['sig_len'], freq='S'); \n",
        "                df_ts_records_temp.TIME = pd.to_datetime(df_ts_records_temp.TIME)\n",
        "                df_ts_indv_record_temp = df_ts_indv_record_temp.append(df_ts_records_temp, ignore_index=True);\n",
        "                df_ts_indv_record_temp['RECORD'] = record;\n",
        "                \n",
        "                if '%.3f'%(fields['fs'])== '1.000' : #safiya\n",
        "                  #print('aggregating second record')\n",
        "                  start_idx = 0;\n",
        "                  try:\n",
        "                    df_ts_records_new.drop(df_ts_records_new.index, inplace=True)\n",
        "                  except:\n",
        "                    print('df_ts_records_new does not exists')\n",
        "                  df_ts_records_new = pd.DataFrame(columns=df_ts_records_columns);\n",
        "                  #print('length of new df  '  , df_ts_records_new.shape[0] )\n",
        "                  for index, rows in df_ts_indv_record_temp.iterrows():\n",
        "                    if start_idx >= df_ts_indv_record_temp.shape[0]:\n",
        "                      exit;\n",
        "                    else: \n",
        "                      array = np.array( df_ts_indv_record_temp.iloc[start_idx: (start_idx+60), 4:10].mean(axis=0))\n",
        "                      current_index = df_ts_records_new.shape[0]\n",
        "                      df_ts_records_new.loc[current_index ,'HR']= array[0]\n",
        "                      df_ts_records_new.loc[current_index,'SPO2']= array[1]\n",
        "                      df_ts_records_new.loc[current_index,'ABPSYS']= array[2]\n",
        "                      df_ts_records_new.loc[current_index,'ABPDIAS']= array[3]\n",
        "                      df_ts_records_new.loc[current_index,'ABPMEAN']= array[4]\n",
        "                      df_ts_records_new.loc[current_index,'RESP']= array[5]\n",
        "                      start_idx = start_idx+60;\n",
        "                  \n",
        "                  #print('finished aggregating second record and now inserting into main df for a patient')\n",
        "                  df_ts_records_new['TIME'] = pd.date_range(df_ts_indv_record_temp.loc[0,'TIME'], periods= df_ts_records_new.shape[0], freq='1min'); \n",
        "                  df_ts_records_new.TIME = pd.to_datetime(df_ts_records_new.TIME)\n",
        "                  df_ts_records_new['RECORD'] = record;\n",
        "                  #df_ts_records = pd.DataFrame(columns=df_ts_records_columns)\n",
        "                  df_ts_records = df_ts_records.append(df_ts_records_new, ignore_index=True);\n",
        "                  df_ts_indv_record_temp.drop(df_ts_indv_record_temp.index, inplace=True);\n",
        "                  df_ts_records_new.drop(df_ts_records_new.index, inplace=True)\n",
        "                  #print('finished aggregating second record')\n",
        "\n",
        "                else:\n",
        "                  df_ts_records = df_ts_records.append(df_ts_indv_record_temp, ignore_index=True);\n",
        "                  df_ts_indv_record_temp.drop(df_ts_indv_record_temp.index, inplace=True);\n",
        "                     \n",
        "\n",
        "            \n",
        "            #FS = '%.3f'%(fields['fs'])\n",
        "            #print(FS)\n",
        "            count_overlap = count_overlap +1\n",
        "          else:            \n",
        "            print('RECORD DOES NOT EXISTS FOR THE ICU STAYS WITH THE SIGNALS NEEDED : ', row['subject_id'])\n",
        "              #df_csvdata.loc[index,'timeoverlap'] = 0;\n",
        "\n",
        "        except ValueError:\n",
        "          print('Error occured while reading waveform: ', record);\n",
        "\n",
        "\n",
        "    #print((datetime.datetime.strptime(row['intime'],'%Y-%m-%d %H:%M:%S') ) + datetime.timedelta(hours=24))\n",
        "    try:\n",
        "      last_record_idx = df_ts_records.shape[0] - 1\n",
        "      all_records_end_time = df_ts_records.loc[last_record_idx,'TIME']\n",
        "      \n",
        "      if (all_records_end_time < (datetime.datetime.strptime(row['outtime'],'%Y-%m-%d %H:%M:%S') ) ):\n",
        "        #print('INSERTING NULLS AT THE END')\n",
        "        try:\n",
        "          df_ts_records_time_temp_end.drop(df_ts_records_time_temp_end.index, inplace=True)\n",
        "        except:\n",
        "          print('df_ts_records_time_temp_end does not exists')\n",
        "        #print('main DF last time record: ',last_Record_time )\n",
        "        minutes_to_insert_end = (datetime.datetime.strptime(row['outtime'],'%Y-%m-%d %H:%M:%S') ) - all_records_end_time\n",
        "        duration_in_s = minutes_to_insert_end.total_seconds()\n",
        "        minutes_to_insert_end = divmod(duration_in_s, 60)[0] - 1\n",
        "        df_ts_records_time_temp_end = pd.DataFrame(columns=df_ts_records_columns)\n",
        "        \n",
        "        df_ts_records_time_temp_end['TIME'] = pd.date_range(all_records_end_time + datetime.timedelta(minutes=1), \n",
        "                                                              periods=minutes_to_insert_end, freq='1min'); \n",
        "        df_ts_records = df_ts_records.append(df_ts_records_time_temp_end, ignore_index=True);\n",
        "        #print('appended to df_ts_records')\n",
        "      \n",
        "      #df_ts_records['RECORD'] = record\n",
        "      df_ts_records['SUBJECT_ID'] = row['subject_id']\n",
        "      df_ts_records['ICUSTAY_ID'] = row['icustay_id']\n",
        "      #print(df_ts_records)\n",
        "\n",
        "      df_ts_records_all_patients = df_ts_records_all_patients.append(df_ts_records, ignore_index=True);\n",
        "      print('successfully inserted: ',row['subject_id'])\n",
        "      #print(df_ts_records_all_patients)\n",
        "      \n",
        "    except:\n",
        "      print('Error occured while reading waveform for patient: ', row['subject_id'])"
      ],
      "execution_count": null,
      "outputs": []
    },
    {
      "cell_type": "code",
      "metadata": {
        "id": "Qvdv9QFVqitS",
        "colab_type": "code",
        "colab": {
          "base_uri": "https://localhost:8080/",
          "height": 34
        },
        "outputId": "84024c8a-c1fb-4877-e7e8-7f8e0dd8d867"
      },
      "source": [
        "print(df_ts_records_all_patients.shape)"
      ],
      "execution_count": null,
      "outputs": [
        {
          "output_type": "stream",
          "text": [
            "(2530520, 10)\n"
          ],
          "name": "stdout"
        }
      ]
    },
    {
      "cell_type": "code",
      "metadata": {
        "id": "6aLjfUhzVxq5",
        "colab_type": "code",
        "colab": {}
      },
      "source": [
        "df_ts_records_all_patients.to_csv ('df_ts_records_all404_patients.csv', sep=',', index = False, header=True);\n"
      ],
      "execution_count": null,
      "outputs": []
    },
    {
      "cell_type": "code",
      "metadata": {
        "id": "_l16fS0_Xo2Q",
        "colab_type": "code",
        "colab": {
          "base_uri": "https://localhost:8080/",
          "height": 122
        },
        "outputId": "6a572ef6-63ef-44c1-9ddd-1c4d22efcaf5"
      },
      "source": [
        "from google.colab import drive\n",
        "drive.mount('/content/gdrive')"
      ],
      "execution_count": 2,
      "outputs": [
        {
          "output_type": "stream",
          "text": [
            "Go to this URL in a browser: https://accounts.google.com/o/oauth2/auth?client_id=947318989803-6bn6qk8qdgf4n4g3pfee6491hc0brc4i.apps.googleusercontent.com&redirect_uri=urn%3aietf%3awg%3aoauth%3a2.0%3aoob&response_type=code&scope=email%20https%3a%2f%2fwww.googleapis.com%2fauth%2fdocs.test%20https%3a%2f%2fwww.googleapis.com%2fauth%2fdrive%20https%3a%2f%2fwww.googleapis.com%2fauth%2fdrive.photos.readonly%20https%3a%2f%2fwww.googleapis.com%2fauth%2fpeopleapi.readonly\n",
            "\n",
            "Enter your authorization code:\n",
            "··········\n",
            "Mounted at /content/gdrive\n"
          ],
          "name": "stdout"
        }
      ]
    },
    {
      "cell_type": "code",
      "metadata": {
        "id": "nYQT7e5IZXsH",
        "colab_type": "code",
        "colab": {}
      },
      "source": [
        "!cp \"/content/df_ts_records_all404_patients.csv\" \"/content/gdrive/My Drive/Master thesis\"\n"
      ],
      "execution_count": null,
      "outputs": []
    }
  ]
}